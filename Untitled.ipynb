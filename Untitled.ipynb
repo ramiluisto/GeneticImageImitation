{
 "cells": [
  {
   "cell_type": "code",
   "execution_count": 1,
   "id": "3ae07943-7a0f-4a0f-b736-2336b2d279f1",
   "metadata": {},
   "outputs": [],
   "source": [
    "import src.base_elements as base_elements"
   ]
  },
  {
   "cell_type": "code",
   "execution_count": 2,
   "id": "52142425-65eb-4ac1-adcb-4fdda1a8a832",
   "metadata": {},
   "outputs": [],
   "source": [
    "canvas = base_elements.Canvas()"
   ]
  },
  {
   "cell_type": "code",
   "execution_count": 20,
   "id": "fe9bad4c-7dbd-43a5-aa59-4304b0d96a18",
   "metadata": {},
   "outputs": [],
   "source": [
    "val_1 = canvas.draw()"
   ]
  },
  {
   "cell_type": "code",
   "execution_count": 16,
   "id": "f8acf8b0-0ed3-4b81-b156-e70b16e930fa",
   "metadata": {},
   "outputs": [],
   "source": [
    "canvas_code = canvas.canvas_to_code_string()"
   ]
  },
  {
   "cell_type": "code",
   "execution_count": 21,
   "id": "39a893be-710b-4d32-9877-9dd8676a4693",
   "metadata": {},
   "outputs": [],
   "source": [
    "\n",
    "val_1 = canvas.draw()\n",
    "canvas_code = canvas.canvas_to_code_string()\n",
    "canvas_code = canvas.canvas_to_code_string()\n",
    "val_2 = base_elements.Canvas.canvas_from_code(canvas_code).draw()\n"
   ]
  },
  {
   "cell_type": "code",
   "execution_count": 23,
   "id": "06b2e5b0-e83f-4e4a-a044-1ce4d9a6fb8b",
   "metadata": {},
   "outputs": [
    {
     "data": {
      "text/plain": [
       "True"
      ]
     },
     "execution_count": 23,
     "metadata": {},
     "output_type": "execute_result"
    }
   ],
   "source": [
    "val_1 == val_2"
   ]
  },
  {
   "cell_type": "code",
   "execution_count": null,
   "id": "185051fc-4267-488d-8670-fe77db3aacdc",
   "metadata": {},
   "outputs": [],
   "source": []
  },
  {
   "cell_type": "code",
   "execution_count": 4,
   "id": "7f412074-1c1c-4d0c-be7e-861a39f890ce",
   "metadata": {},
   "outputs": [],
   "source": [
    "block = canvas.blocks[0]"
   ]
  },
  {
   "cell_type": "code",
   "execution_count": 5,
   "id": "540603e5-64b9-420a-951a-bdedff9873ad",
   "metadata": {},
   "outputs": [
    {
     "data": {
      "text/plain": [
       "'11100010110111001111000110000100011011001101001010010000000011110101'"
      ]
     },
     "execution_count": 5,
     "metadata": {},
     "output_type": "execute_result"
    }
   ],
   "source": [
    "block.code"
   ]
  },
  {
   "cell_type": "code",
   "execution_count": null,
   "id": "54a53cdb-b78a-49c4-a86f-6921cb0a83af",
   "metadata": {},
   "outputs": [],
   "source": []
  },
  {
   "cell_type": "code",
   "execution_count": 6,
   "id": "0f93fa7b-bb6c-4072-950d-be0d3b384533",
   "metadata": {},
   "outputs": [],
   "source": [
    "def code(self):\n",
    "    code_block = \"\"\n",
    "\n",
    "    for coord in self.coordinates:\n",
    "        code_block += self.number_to_code_string(coord, 511)\n",
    "        print(\n",
    "            f\"Coordinate {coord:>3} was turned to string {self.number_to_code_string(coord, 511)}\"\n",
    "        )\n",
    "\n",
    "    for color_val in self.color:\n",
    "        code_block += self.number_to_code_string(color_val, 255)\n",
    "        print(\n",
    "            f\"Color      {color_val:>3} was turned to string {self.number_to_code_string(color_val, 255)}\"\n",
    "        )\n",
    "\n",
    "    code_block += self.number_to_code_string(self.transparency, 255)\n",
    "    print(\n",
    "            f\"Transpar   {self.transparency:>3} was turned to string {self.number_to_code_string(self.transparency, 255)}\"\n",
    "    )\n",
    "\n",
    "    return code_block"
   ]
  },
  {
   "cell_type": "code",
   "execution_count": 7,
   "id": "f00cac27-d689-438a-aea1-730534c43086",
   "metadata": {},
   "outputs": [
    {
     "data": {
      "text/plain": [
       "<bound method Block.block_from_code_string of <class 'src.base_elements.Block'>>"
      ]
     },
     "execution_count": 7,
     "metadata": {},
     "output_type": "execute_result"
    }
   ],
   "source": [
    "block.block_from_code_string"
   ]
  },
  {
   "cell_type": "code",
   "execution_count": 8,
   "id": "f3659da9-0f34-4474-b748-f6b6deea3ff8",
   "metadata": {},
   "outputs": [
    {
     "name": "stdout",
     "output_type": "stream",
     "text": [
      "Coordinate 377 was turned to string 111000101\n",
      "Coordinate 418 was turned to string 101110011\n",
      "Coordinate 264 was turned to string 110001100\n",
      "Coordinate 123 was turned to string 001000110\n",
      "Color      137 was turned to string 11001101\n",
      "Color       49 was turned to string 00101001\n",
      "Color        0 was turned to string 00000000\n",
      "Transpar   166 was turned to string 11110101\n",
      "11100010110111001111000110000100011011001101001010010000000011110101\n"
     ]
    }
   ],
   "source": [
    "code_str = code(block)\n",
    "print(code_str)"
   ]
  },
  {
   "cell_type": "code",
   "execution_count": 9,
   "id": "b52290b1-6130-4933-9bf4-85548edecce7",
   "metadata": {},
   "outputs": [],
   "source": [
    "new_block = base_elements.Block.block_from_code_string(code_str)"
   ]
  },
  {
   "cell_type": "code",
   "execution_count": 10,
   "id": "1fd266b0-4df3-4885-9d2b-88a50fcada22",
   "metadata": {},
   "outputs": [
    {
     "name": "stdout",
     "output_type": "stream",
     "text": [
      "Coordinate 377 was turned to string 111000101\n",
      "Coordinate 418 was turned to string 101110011\n",
      "Coordinate 264 was turned to string 110001100\n",
      "Coordinate 123 was turned to string 001000110\n",
      "Color      137 was turned to string 11001101\n",
      "Color       49 was turned to string 00101001\n",
      "Color        0 was turned to string 00000000\n",
      "Transpar   166 was turned to string 11110101\n"
     ]
    },
    {
     "data": {
      "text/plain": [
       "'11100010110111001111000110000100011011001101001010010000000011110101'"
      ]
     },
     "execution_count": 10,
     "metadata": {},
     "output_type": "execute_result"
    }
   ],
   "source": [
    "code(new_block)"
   ]
  },
  {
   "cell_type": "code",
   "execution_count": null,
   "id": "3e8ced80-37e8-4f85-9c8d-ce12d3e009e2",
   "metadata": {},
   "outputs": [],
   "source": []
  },
  {
   "cell_type": "code",
   "execution_count": 11,
   "id": "0a0d943e-b181-43e9-9840-73c745d82b75",
   "metadata": {},
   "outputs": [
    {
     "data": {
      "text/plain": [
       "68"
      ]
     },
     "execution_count": 11,
     "metadata": {},
     "output_type": "execute_result"
    }
   ],
   "source": [
    "len('01110011101011111100000001110110111100010111011010100010001100000101')"
   ]
  },
  {
   "cell_type": "code",
   "execution_count": 12,
   "id": "e6aff337-e929-460b-8d60-94158b7feaf0",
   "metadata": {},
   "outputs": [
    {
     "name": "stdout",
     "output_type": "stream",
     "text": [
      "Object `math.log` not found.\n"
     ]
    }
   ],
   "source": [
    "?math.log"
   ]
  },
  {
   "cell_type": "code",
   "execution_count": 13,
   "id": "e7af396e-d858-4279-a8ba-2b2a5c8011e1",
   "metadata": {},
   "outputs": [
    {
     "ename": "NameError",
     "evalue": "name 'math' is not defined",
     "output_type": "error",
     "traceback": [
      "\u001b[0;31m---------------------------------------------------------------------------\u001b[0m",
      "\u001b[0;31mNameError\u001b[0m                                 Traceback (most recent call last)",
      "Cell \u001b[0;32mIn[13], line 1\u001b[0m\n\u001b[0;32m----> 1\u001b[0m math\u001b[38;5;241m.\u001b[39mlog(\u001b[38;5;241m512\u001b[39m, \u001b[38;5;241m2\u001b[39m)\n",
      "\u001b[0;31mNameError\u001b[0m: name 'math' is not defined"
     ]
    }
   ],
   "source": [
    "math.log(512, 2)"
   ]
  },
  {
   "cell_type": "code",
   "execution_count": null,
   "id": "9e21aedc-dd71-432a-9fbd-b46fa8a9e2b4",
   "metadata": {},
   "outputs": [],
   "source": [
    "int(math.ceil(math.log(513, 2)))"
   ]
  },
  {
   "cell_type": "code",
   "execution_count": null,
   "id": "02c87a5f-9a24-4026-97bd-ae42770a645a",
   "metadata": {},
   "outputs": [],
   "source": [
    "import graycode\n",
    "\n",
    "\n",
    "def number_to_code_string(number, max_value):\n",
    "    padding_count = int(math.ceil(math.log(max_value + 1, 2)))\n",
    "    format_string = \"{:0\" + str(padding_count) + \"b}\"\n",
    "\n",
    "    return format_string.format(graycode.tc_to_gray_code(number))"
   ]
  },
  {
   "cell_type": "code",
   "execution_count": null,
   "id": "60c47409-d44d-4e7d-a6d1-4594dc080cc6",
   "metadata": {},
   "outputs": [],
   "source": [
    "number_to_code_string(1, 51)"
   ]
  },
  {
   "cell_type": "code",
   "execution_count": null,
   "id": "27d2686f-9338-488e-9e11-3df8aaf1232a",
   "metadata": {},
   "outputs": [],
   "source": []
  },
  {
   "cell_type": "code",
   "execution_count": null,
   "id": "2d533a38-e5a6-40f1-aec1-181ec4238e0a",
   "metadata": {},
   "outputs": [],
   "source": []
  }
 ],
 "metadata": {
  "kernelspec": {
   "display_name": "GeneticEnv",
   "language": "python",
   "name": "geneticenv"
  },
  "language_info": {
   "codemirror_mode": {
    "name": "ipython",
    "version": 3
   },
   "file_extension": ".py",
   "mimetype": "text/x-python",
   "name": "python",
   "nbconvert_exporter": "python",
   "pygments_lexer": "ipython3",
   "version": "3.11.0"
  }
 },
 "nbformat": 4,
 "nbformat_minor": 5
}
