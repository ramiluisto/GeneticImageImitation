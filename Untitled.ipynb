{
 "cells": [
  {
   "cell_type": "code",
   "execution_count": 1,
   "id": "01a98a2b-c1ad-470d-9470-80d8723f20a3",
   "metadata": {},
   "outputs": [],
   "source": [
    "import numpy as np\n",
    "from PIL import Image, ImageDraw\n",
    "import graycode\n",
    "import random"
   ]
  },
  {
   "cell_type": "code",
   "execution_count": 2,
   "id": "592c6416-10a7-4be0-b9fc-2fc8ab3a66f1",
   "metadata": {},
   "outputs": [],
   "source": [
    "from src_numpy.evolution import Simulation"
   ]
  },
  {
   "cell_type": "code",
   "execution_count": null,
   "id": "7d40c309-39ed-461d-ab18-08fb519707b3",
   "metadata": {},
   "outputs": [
    {
     "name": "stdout",
     "output_type": "stream",
     "text": [
      "Doing round    455.     "
     ]
    }
   ],
   "source": [
    "sim = Simulation(iter_limit=500)\n",
    "\n",
    "sim.run()\n",
    "\n",
    "import matplotlib.pyplot as plt\n",
    "\n",
    "scores = [pair[-1] for pair in sim.best_results]\n",
    "plt.plot(scores)\n",
    "plt.ylim(0, scores[0])\n",
    "\n",
    "display(sim.best_image())"
   ]
  },
  {
   "cell_type": "code",
   "execution_count": null,
   "id": "78e8d3df-6856-4216-ab51-5bcf96ef8f78",
   "metadata": {},
   "outputs": [],
   "source": [
    "for canvas, score in sim.scored_canvases.items():\n",
    "    print(80 * \"*\")\n",
    "    print(score)\n",
    "    display(canvas.draw())"
   ]
  },
  {
   "cell_type": "code",
   "execution_count": null,
   "id": "ac72906c-ad7e-4e93-9687-b3bb5f2aa90f",
   "metadata": {},
   "outputs": [],
   "source": []
  },
  {
   "cell_type": "code",
   "execution_count": null,
   "id": "aca2280f-74d6-4ee1-99e4-6b6945a2aa63",
   "metadata": {},
   "outputs": [],
   "source": []
  }
 ],
 "metadata": {
  "kernelspec": {
   "display_name": "GeneticEnv",
   "language": "python",
   "name": "geneticenv"
  },
  "language_info": {
   "codemirror_mode": {
    "name": "ipython",
    "version": 3
   },
   "file_extension": ".py",
   "mimetype": "text/x-python",
   "name": "python",
   "nbconvert_exporter": "python",
   "pygments_lexer": "ipython3",
   "version": "3.11.0"
  }
 },
 "nbformat": 4,
 "nbformat_minor": 5
}
